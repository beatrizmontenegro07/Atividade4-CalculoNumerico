{
  "nbformat": 4,
  "nbformat_minor": 0,
  "metadata": {
    "colab": {
      "provenance": [],
      "toc_visible": true,
      "include_colab_link": true
    },
    "kernelspec": {
      "name": "python3",
      "display_name": "Python 3"
    },
    "language_info": {
      "name": "python"
    }
  },
  "cells": [
    {
      "cell_type": "markdown",
      "metadata": {
        "id": "view-in-github",
        "colab_type": "text"
      },
      "source": [
        "<a href=\"https://colab.research.google.com/github/beatrizmontenegro07/Atividade4-CalculoNumerico/blob/main/Atividade4_CalculoNumerico.ipynb\" target=\"_parent\"><img src=\"https://colab.research.google.com/assets/colab-badge.svg\" alt=\"Open In Colab\"/></a>"
      ]
    },
    {
      "cell_type": "markdown",
      "source": [
        "# ✏️ Implementação da Regra de Simpson Composta"
      ],
      "metadata": {
        "id": "fM9razQuNGpZ"
      }
    },
    {
      "cell_type": "code",
      "source": [
        "def regraSimpsonComposta (a, b, n, valores_x, valores_y):\n",
        "  \"\"\"\n",
        "  Retorna o resultado da aproximação da integral após a aplicação da Regrade Simpson Composta\n",
        "\n",
        "  Parâmetros:\n",
        "  a (float): extremidade inferior do intervalo\n",
        "  b (float): extremidade superior do intervalo\n",
        "  n (int): partes existentes no intervalo\n",
        "  valores_x (list): pontos x_i, com i = 0, 1, ..., n\n",
        "  valores_y (list): pontos y_i, com i = 0, 1, ..., n\n",
        "\n",
        "  Retorna:\n",
        "  float: Valor da aproximação do cálculo de integral definida\n",
        "  \"\"\"\n",
        "  h = (b - a) / n\n",
        "\n",
        "  somatorio = 0\n",
        "  for i, x in enumerate(valores_x):\n",
        "    if x == a or x == b:\n",
        "      somatorio += valores_y[i]\n",
        "    elif i % 2 == 0:\n",
        "      somatorio += 2 * valores_y[i]\n",
        "    else:\n",
        "      somatorio += 4 * valores_y[i]\n",
        "\n",
        "  return (h / 3) * somatorio\n"
      ],
      "metadata": {
        "id": "vPKO_0RLNGJe"
      },
      "execution_count": null,
      "outputs": []
    },
    {
      "cell_type": "markdown",
      "source": [
        "# ✏️ Implementação da Regra dos Trapézios Generalizada"
      ],
      "metadata": {
        "id": "a4QYFRiwuFvC"
      }
    },
    {
      "cell_type": "code",
      "source": [
        "def regraDosTrapeziosGeral(a, b, n, f):\n",
        "  \"\"\"Funcao para calcular a regra do trapezio generalizada, onde:\n",
        "     a (float) = valor inicial de x\n",
        "     b (float) = valor final de x\n",
        "     n (int) = numero de segmentos em que a funcao sera dividida\n",
        "     f (funcao) = funcao que vai gerar os valores de Yi a partir dos Xi\n",
        "\n",
        "     Retorno:\n",
        "       integral (float) = Valor aproximado da integral de f definida em a e b\n",
        "  \"\"\"\n",
        "  h = (b - a) / n #h define o intervalo de cada Xi\n",
        "  valores_x = []\n",
        "  valores_y = []\n",
        "  x = a #x comeca com o valor inicial a\n",
        "  for i in range(0, n+1):\n",
        "    y = f(x) #aplicando a funcao em x\n",
        "    valores_x.append(x)\n",
        "    valores_y.append(y)\n",
        "    x = x + h #incrementando x para para o proximo valor do intervalo\n",
        "\n",
        "  integral = 0 #comeca o calculo da integral\n",
        "\n",
        "  for k in range(0, n+1):\n",
        "    fx = valores_y[k] #valor de f(x) nessa iteracao\n",
        "    if(k == 0) or (k == n):\n",
        "      integral = integral + (1 * fx)\n",
        "    else:\n",
        "      integral = integral + (2 * fx)\n",
        "\n",
        "  integral = integral * (h/2) #ultimo passo da formula\n",
        "  return integral\n"
      ],
      "metadata": {
        "id": "5wBIt9axuQ_i"
      },
      "execution_count": null,
      "outputs": []
    },
    {
      "cell_type": "markdown",
      "source": [
        "# ✏️ Implementação do método de Gauss-Seidel"
      ],
      "metadata": {
        "id": "4I_R9wrcuRdU"
      }
    },
    {
      "cell_type": "code",
      "source": [
        "def gauss_seidel(coeficientes, constantes, x_inicial, tolerancia, max_iteracoes):\n",
        "    \"\"\"\n",
        "    Método de Gauss-Seidel para resolver sistemas lineares.\n",
        "\n",
        "    Parâmetros:\n",
        "    coeficientes (list of list of floats): Matriz dos coeficientes do sistema.\n",
        "    constantes (list of floats): Vetor das constantes (lado direito das equações).\n",
        "    x_inicial (list of floats): Aproximação inicial das soluções.\n",
        "    tolerancia (float): Critério de parada.\n",
        "    max_iteracoes (int): Número máximo de iterações.\n",
        "\n",
        "    Retorna:\n",
        "    tuple: Solução aproximada do sistema e número de iterações.\n",
        "    \"\"\"\n",
        "    n = len(constantes)\n",
        "    x = x_inicial.copy()\n",
        "\n",
        "    for k in range(max_iteracoes):\n",
        "        x_novo = x.copy()\n",
        "        for i in range(n):\n",
        "            soma = sum(coeficientes[i][j] * x_novo[j] for j in range(n) if j != i)\n",
        "            x_novo[i] = (constantes[i] - soma) / coeficientes[i][i]\n",
        "\n",
        "        if all(abs(x_novo[i] - x[i]) < tolerancia for i in range(n)):\n",
        "            return x_novo, k + 1  # Retorna a solução e o número de iterações\n",
        "\n",
        "        x = x_novo\n",
        "\n",
        "    return x, max_iteracoes  # Retorna o valor após o número máximo de iterações\n"
      ],
      "metadata": {
        "id": "aELEAeMXuaH7"
      },
      "execution_count": null,
      "outputs": []
    },
    {
      "cell_type": "markdown",
      "source": [
        "# 📑Questão 1"
      ],
      "metadata": {
        "id": "teqr2X8Rp_wK"
      }
    },
    {
      "cell_type": "markdown",
      "source": [
        " Um radar foi usado para medir a velocidade de um corredor durante os\n",
        "primeiros 5 segundos de uma corrida (Veja a tabela). Use a regra de\n",
        "Simpson composta para estimar a distância que o corredor cobriu durante\n",
        "aqueles 5 segundos."
      ],
      "metadata": {
        "id": "4uMfvNQyqGm6"
      }
    },
    {
      "cell_type": "markdown",
      "source": [
        "![image.png](data:image/png;base64,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)"
      ],
      "metadata": {
        "id": "AqVoNHpXqQpJ"
      }
    },
    {
      "cell_type": "code",
      "source": [
        "valores_t = [0, 0.5, 1, 1.5, 2, 2.5, 3, 3.5, 4, 4.5, 5]  #valores do tempo\n",
        "valores_v = [0, 4.67, 7.34, 8.86, 9.73, 10.22, 10.51, 10.67, 10.76, 10.81, 10.81]   #valores da velocidade\n",
        "a = 0  #extremidade inferior do intervalo\n",
        "b = 5  #extremidade superior do intervalo\n",
        "n = 10 #quantidade de partições do intervalo\n",
        "\n",
        "#Resultado da distancia calculada\n",
        "distancia = regraSimpsonComposta(a, b, n, valores_t, valores_v)\n",
        "\n",
        "print(f\"Distância aproximada pecorrida é {distancia} metros\")"
      ],
      "metadata": {
        "colab": {
          "base_uri": "https://localhost:8080/"
        },
        "id": "4XBIdI74PsS7",
        "outputId": "b55410e6-db97-44e6-a3f1-7c454cb868ac"
      },
      "execution_count": null,
      "outputs": [
        {
          "output_type": "stream",
          "name": "stdout",
          "text": [
            "Distância aproximada pecorrida é 44.735 metros\n"
          ]
        }
      ]
    },
    {
      "cell_type": "markdown",
      "source": [
        "# 📑 Questão 2\n"
      ],
      "metadata": {
        "id": "Vy3rA9Ylucxq"
      }
    },
    {
      "cell_type": "markdown",
      "source": [
        "Suponha que você seja um engenheiro civil e precise calcular a área sob\n",
        "uma curva que descreve a variação da pressão ao longo de uma parede de\n",
        "barragem. Usando a Regra dos Trapézios Generalizada, estime essa área\n",
        "considerando que a pressão $(P)$ varia com a profundidade $(h)$ segundo a\n",
        "função $P(h) = 5h² + 3h + 2$ entre 0 e 10 metros de profundidade. Divida o intervalo em 5 segmentos\n",
        "iguais e aplique a regra para estimar a pressão total sobre a parede."
      ],
      "metadata": {
        "id": "d4gVwMS1uhIH"
      }
    },
    {
      "cell_type": "markdown",
      "source": [
        "**Resposta:** Para podermos aplicar a função de regraDosTrapeziosGeral nessa situação, vamos criar uma função em Python que possa nos fornecer o valor de $P(h)$ a cada $h$ dado como parâmetro.\n"
      ],
      "metadata": {
        "id": "0r5s61oJaxxq"
      }
    },
    {
      "cell_type": "code",
      "source": [
        "#Criando a funcao que sera usada no metodo\n",
        "\n",
        "def f2(x):\n",
        "  #f2(x) eh a funcao P(h)\n",
        "  #onde x eh o valor da profundidade h\n",
        "  #retorna o valor y correspondente a P(h)\n",
        "\n",
        "  y = (5 * x**2) + (3 * x) + 2\n",
        "  return y"
      ],
      "metadata": {
        "id": "KSodpsrXu-Wz"
      },
      "execution_count": null,
      "outputs": []
    },
    {
      "cell_type": "markdown",
      "source": [
        "Agora com a função $P(h)$ implementada, basta chamar a regraDosTrapeziosGeral com os valores fornecidos pelo enunciado."
      ],
      "metadata": {
        "id": "oOyW7Oahc-uF"
      }
    },
    {
      "cell_type": "code",
      "source": [
        "#Aplicando a regra dos trapezios com P(h)\n",
        "\n",
        "a = 0 #profundidade inicial\n",
        "b = 10 #limite de profundidade\n",
        "n = 5 #numero de segmentos que o intervalo sera dividido\n",
        "resultado = regraDosTrapeziosGeral(a, b, n, f2)\n",
        "\n",
        "print(f\"A pressao total foi de: {resultado:.4f}\")"
      ],
      "metadata": {
        "colab": {
          "base_uri": "https://localhost:8080/"
        },
        "id": "ffkJyxejdiio",
        "outputId": "14e3453c-b189-4cde-c7c9-8d730ff47cac"
      },
      "execution_count": null,
      "outputs": [
        {
          "output_type": "stream",
          "name": "stdout",
          "text": [
            "A pressao total foi de: 1870.0000\n"
          ]
        }
      ]
    },
    {
      "cell_type": "markdown",
      "source": [
        "# 📑 Questão 3"
      ],
      "metadata": {
        "id": "MLHPU6htvBDx"
      }
    },
    {
      "cell_type": "markdown",
      "source": [
        "Trabalhando na otimização da distribuição de energia elétrica, você\n",
        "enfrenta um sistema de equações que representa o balanceamento de carga\n",
        "em diferentes nós de uma rede. O sistema é:  \n",
        "$$\n",
        "\\begin{cases}\n",
        "3x_1 - x_2 + x_3 = 1 \\\\\n",
        "3x_1 +3x_2 + 7x_3 = 4 \\\\\n",
        "3x_1 + 6x + 2x_3 = 0\n",
        "\\end{cases}\n",
        "$$  \n",
        "Resolva pelo método de Gauss-Seidel, com e = 0,001\n"
      ],
      "metadata": {
        "id": "6ay8QC4vvIex"
      }
    },
    {
      "cell_type": "code",
      "source": [
        "A = [\n",
        "    [3, -1, 1],    # Primeira equação\n",
        "    [3, 6, 2],      # Terceira equação\n",
        "    [3, 3, 7],     # Segunda equação\n",
        "]\n",
        "\n",
        "b = [1, 0, 4]\n",
        "x_inicial = [0, 0, 0]\n",
        "tolerancia = 0.001\n",
        "max_iteracoes = 1000\n",
        "\n",
        "# Chamada da função Gauss-Seidel\n",
        "solucao, iteracoes = gauss_seidel(A, b, x_inicial, tolerancia, max_iteracoes)\n",
        "\n",
        "# Resultados\n",
        "print(f\"Solução aproximada: {solucao}\")\n",
        "print(f\"Número de iterações: {iteracoes}\")"
      ],
      "metadata": {
        "id": "gSYNJlb1wWLK",
        "colab": {
          "base_uri": "https://localhost:8080/"
        },
        "outputId": "39bd3235-eb58-4d6c-c92d-9a66b9613e9b"
      },
      "execution_count": null,
      "outputs": [
        {
          "output_type": "stream",
          "name": "stdout",
          "text": [
            "Solução aproximada: [0.0353510682848767, -0.23678862659534294, 0.6577589535616284]\n",
            "Número de iterações: 6\n"
          ]
        }
      ]
    },
    {
      "cell_type": "markdown",
      "source": [
        "# 📑 Questão 4"
      ],
      "metadata": {
        "id": "yvkpHcg9wW4b"
      }
    },
    {
      "cell_type": "markdown",
      "source": [
        "Um engenheiro de Produção supervisiona a produção de quatro tipos de\n",
        "computadores. Existem quatro espécies de recursos necessários à produção:\n",
        "mão-de-obra, metais, plásticos e componentes electrónicos. As quantidades\n",
        "destes recursos, necessárias para produzir cada computador são:\n",
        "\n",
        "![image.png](data:image/png;base64,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)  \n",
        "\n",
        "Considere um consumo diário de 504 h de mão-de-obra, 1970 Kg de\n",
        "metais, 970 Kg de plásticos e 601 componentes. Calcule o número\n",
        "aproximado de computadores (número inteiro) de cada tipo produzidos por\n",
        "dia. Utilize um dos métodos abordados em aulas!\n"
      ],
      "metadata": {
        "id": "cyDo8xkuwcK6"
      }
    },
    {
      "cell_type": "code",
      "source": [
        "C = [\n",
        "    [20, 7, 4, 3],     # Mão de obra\n",
        "    [50, 40, 25, 20],  # Metais\n",
        "    [22, 20, 15, 10],  # Pláticos\n",
        "    [15, 10, 8, 10] ,   # Componentes\n",
        "]\n",
        "\n",
        "d = [504, 1970, 970, 601] # Coeficientes\n",
        "x0 = [9, 10, 12, 10]\n",
        "e = 0.002\n",
        "max = 1000\n",
        "\n",
        "solucao, iteracoes = gauss_seidel(C, d, x0, e, max)\n",
        "print(f\"Solução aproximada: {solucao}\")\n",
        "\n",
        "for i in range(len(solucao)):\n",
        "  solucao[i] = round(solucao[i])\n",
        "\n",
        "print(f\"Solução em valores inteiros: {solucao}\")\n",
        "print(f\"Número de iterações: {iteracoes}\")"
      ],
      "metadata": {
        "id": "3lhFcNw8wz3x",
        "colab": {
          "base_uri": "https://localhost:8080/"
        },
        "outputId": "ba0695a0-07ec-426d-a120-9e9529ae9b32"
      },
      "execution_count": null,
      "outputs": [
        {
          "output_type": "stream",
          "name": "stdout",
          "text": [
            "Solução aproximada: [15.001105401959995, 17.992411902461562, 12.010312270859732, 9.997680177910661]\n",
            "Solução em valores inteiros: [15, 18, 12, 10]\n",
            "Número de iterações: 29\n"
          ]
        }
      ]
    }
  ]
}